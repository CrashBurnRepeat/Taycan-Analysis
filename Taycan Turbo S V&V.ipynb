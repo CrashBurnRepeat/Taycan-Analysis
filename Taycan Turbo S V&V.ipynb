{
 "cells": [
  {
   "cell_type": "markdown",
   "metadata": {
    "slideshow": {
     "slide_type": "slide"
    }
   },
   "source": [
    "### Verifying and Validating a WOT acceleration model for the Porsche Taycan Turbo S ###\n",
    "#### Presented by David Perner for the SAE Dynamical Modeling and Simulation Committee, April 21st 2020 ####\n",
    "\n",
    "![2020-porsche-taycan.jpg](img/2020-porsche-taycan.jpg)"
   ]
  },
  {
   "cell_type": "markdown",
   "metadata": {
    "slideshow": {
     "slide_type": "slide"
    }
   },
   "source": [
    "# Motivations #\n",
    "\n",
    "* The Taycan is Porsche's first all-electric vehicle and is often set up as a competitor to the Tesla Model S\n",
    "* Porsche has made an unusually large of technical data on the Taycan public, enabling some preliminary analysis\n",
    "* The powertrain dynamics of electric vehicles are simpler than internal combustion engines, and much simpler than hybrids. "
   ]
  },
  {
   "cell_type": "code",
   "execution_count": 1,
   "metadata": {
    "slideshow": {
     "slide_type": "skip"
    }
   },
   "outputs": [],
   "source": [
    "using Unitful\n",
    "using Interpolations\n",
    "using DelimitedFiles\n",
    "using Polynomials\n",
    "using DifferentialEquations\n",
    "using DataFrames\n",
    "\n",
    "gn = ustrip(Unitful.gn);"
   ]
  },
  {
   "cell_type": "markdown",
   "metadata": {
    "slideshow": {
     "slide_type": "slide"
    }
   },
   "source": [
    "A quick word on syntax. For those unfamiliar with it, the use of closures allows us to build what can be thought of as prototype functions, which when provided with more concrete values, return a function that can be called as intended. For instance:"
   ]
  },
  {
   "cell_type": "code",
   "execution_count": 2,
   "metadata": {
    "slideshow": {
     "slide_type": "fragment"
    }
   },
   "outputs": [],
   "source": [
    "proto_poly(a,b,c) = (x)->a*x^2 + b*x +c;"
   ]
  },
  {
   "cell_type": "markdown",
   "metadata": {
    "slideshow": {
     "slide_type": "fragment"
    }
   },
   "source": [
    "when provided with values of a, b, and c will return a function that evaluates the polynomial as a function of x. We could then take:"
   ]
  },
  {
   "cell_type": "code",
   "execution_count": 3,
   "metadata": {
    "slideshow": {
     "slide_type": "fragment"
    }
   },
   "outputs": [
    {
     "data": {
      "text/plain": [
       "(1, 3, 7)"
      ]
     },
     "execution_count": 3,
     "metadata": {},
     "output_type": "execute_result"
    }
   ],
   "source": [
    "f = proto_poly(1,1,1)\n",
    "(f(0), f(1), f(2)) "
   ]
  },
  {
   "cell_type": "markdown",
   "metadata": {
    "slideshow": {
     "slide_type": "fragment"
    }
   },
   "source": [
    "This strategy allows for functions to be much more easily tested while retaining flexibility"
   ]
  },
  {
   "cell_type": "markdown",
   "metadata": {
    "slideshow": {
     "slide_type": "slide"
    }
   },
   "source": [
    "Here are the equations for drag and rolling resistance using this strategy. The `@assert` macro only returns an error, so it should execute silently unless there's an issue."
   ]
  },
  {
   "cell_type": "code",
   "execution_count": 4,
   "metadata": {
    "slideshow": {
     "slide_type": "fragment"
    }
   },
   "outputs": [],
   "source": [
    "drag(Cd, ρ, A) = (v)->0.5*Cd*A*ρ*v^2\n",
    "\n",
    "drag_test=drag(2,1,1)\n",
    "@assert drag_test(0) == 0\n",
    "@assert drag_test(1) == 1\n",
    "@assert drag_test(10) == 100\n",
    "@assert drag_test(10.0) === 100.0"
   ]
  },
  {
   "cell_type": "code",
   "execution_count": 5,
   "metadata": {
    "slideshow": {
     "slide_type": "fragment"
    }
   },
   "outputs": [
    {
     "ename": "AssertionError",
     "evalue": "AssertionError: Rolling resistance is acting in the wrong direction when v<0",
     "output_type": "error",
     "traceback": [
      "AssertionError: Rolling resistance is acting in the wrong direction when v<0",
      "",
      "Stacktrace:",
      " [1] top-level scope at In[5]:7"
     ]
    }
   ],
   "source": [
    "rolling_resistance(rr, mass) = (v)->v==0 ? 0 : rr*mass*gn\n",
    "\n",
    "rr_test = rolling_resistance(1,1)\n",
    "\n",
    "@assert rr_test(0)==0\n",
    "@assert rr_test(1)==rr_test(2) \"Rolling resistance is not constant\"\n",
    "@assert rr_test(-1)<0 \"Rolling resistance is acting in the wrong direction when v<0\""
   ]
  },
  {
   "cell_type": "markdown",
   "metadata": {
    "slideshow": {
     "slide_type": "slide"
    }
   },
   "source": [
    "According to the literature, the Taycan can only sustain its boosted output levels for 2.5 seconds. Therefore we need some \"control\" logic to enforce this constraint."
   ]
  },
  {
   "cell_type": "code",
   "execution_count": 6,
   "metadata": {
    "slideshow": {
     "slide_type": "fragment"
    }
   },
   "outputs": [],
   "source": [
    "boost_limit(t_limit, boost_f, nominal_f) =\n",
    "    (v,t) -> if t<t_limit\n",
    "        boost_f(v)\n",
    "    else\n",
    "        nominal_f(v)\n",
    "    end\n",
    "\n",
    "traction_limit(f_capability, f_lim) = (v,t) -> min(f_capability(v,t), f_lim)\n",
    "\n",
    "bl_test = boost_limit(1,(v)->1,(v)->20)\n",
    "@assert bl_test(0,0)==1 \n",
    "@assert bl_test(2,2)==20\n",
    "\n",
    "trl_test = traction_limit((v,t)->v*t,10)\n",
    "@assert trl_test(1,1)==1\n",
    "@assert trl_test(1,20)==10"
   ]
  },
  {
   "cell_type": "markdown",
   "metadata": {
    "slideshow": {
     "slide_type": "slide"
    }
   },
   "source": [
    "The total propulsive force on the vehicle is just the force exerted by the powertrain minus the drag and rolling resistance. Similarly, the acceleration is this total force divided by mass. While `@assert` testing wasn't added for these functions, they are very simply and testing could be added if necessary."
   ]
  },
  {
   "cell_type": "code",
   "execution_count": 7,
   "metadata": {
    "slideshow": {
     "slide_type": "fragment"
    }
   },
   "outputs": [],
   "source": [
    "propulsive_force(mod_tq_f, aero_f, rr_f) =\n",
    "    (v,t)-> mod_tq_f(v,t) - aero_f(v) - rr_f(v)\n",
    "\n",
    "accel(m,pf) = (v,t) -> pf(v,t)/m;"
   ]
  },
  {
   "cell_type": "markdown",
   "metadata": {
    "slideshow": {
     "slide_type": "slide"
    }
   },
   "source": [
    "The equation of state is a simple one, with the acceleration (`u[3]`) provided by the previous equations, and integrated once into velocity (`u[2]`) and again to displacement (`u[1]`). The test uses a constant acceleration of 1 and zero initial conditions, making the velocity $v = a*t$ and displacement $x=\\frac{1}{2}a*t^2$."
   ]
  },
  {
   "cell_type": "code",
   "execution_count": 8,
   "metadata": {
    "slideshow": {
     "slide_type": "fragment"
    }
   },
   "outputs": [],
   "source": [
    "eq_state(a) = (du, u, p, t) -> begin\n",
    "    du[1] = u[2]\n",
    "    du[2] = u[3]\n",
    "    u[3] = a(u[2], t)\n",
    "end\n",
    "\n",
    "eqst_test = eq_state((x,y)->1)\n",
    "\n",
    "u0 = [0.0, 0.0, 0.0]\n",
    "tspan = (0.0, 10.0)\n",
    "resp_test = solve(ODEProblem(eqst_test, u0, tspan))\n",
    "@assert resp_test.u[end][3]==1\n",
    "@assert isapprox(resp_test.u[end][2], 10, rtol=1e-5)\n",
    "@assert isapprox(resp_test.u[end][1], 50, rtol=1e-5)"
   ]
  },
  {
   "cell_type": "markdown",
   "metadata": {
    "slideshow": {
     "slide_type": "slide"
    }
   },
   "source": [
    "Now that we've tested the prototypical form of our physical and torque control equations, we can start providing the vehicle and test specific parameters"
   ]
  },
  {
   "cell_type": "code",
   "execution_count": 9,
   "metadata": {
    "slideshow": {
     "slide_type": "fragment"
    }
   },
   "outputs": [],
   "source": [
    "#Physical constants\n",
    "ρ=1.225; #kg/m^3\n",
    "\n",
    "#Vehicle parameters\n",
    "mass_veh = 2_358.7; #kg\n",
    "A_frontal = 2.331866; #m^2\n",
    "Cd = 0.25;\n",
    "tire_r_front = 0.3595; #in m, 21\" rims, 265/35 tires\n",
    "tire_r_rear = 0.358; # in m, 21\" rims, 305/30 tires\n",
    "boost_time = 2.5; #s, powertrain constraint\n",
    "\n",
    "#Model calibration\n",
    "ϕ_p = 0.99;\n",
    "slip_ratio = 1.1;\n",
    "rr = 0.01;\n",
    "\n",
    "# Calculated constants\n",
    "f_traction_max = ϕ_p * mass_veh * gn;"
   ]
  },
  {
   "cell_type": "markdown",
   "metadata": {
    "slideshow": {
     "slide_type": "slide"
    }
   },
   "source": [
    "Porsche has also made this image publically available, showing the torque capabilities of the powertrain system. The data from the plot was pulled off using DataThief and scaled for Porsche's quoted boosted performance."
   ]
  },
  {
   "cell_type": "markdown",
   "metadata": {
    "slideshow": {
     "slide_type": "subslide"
    }
   },
   "source": [
    "![taycan_pt_tq.png](img/taycan_pt_tq.png)"
   ]
  },
  {
   "cell_type": "code",
   "execution_count": 10,
   "metadata": {
    "slideshow": {
     "slide_type": "skip"
    }
   },
   "outputs": [],
   "source": [
    "include(\"taycan_data_load.jl\");"
   ]
  },
  {
   "cell_type": "markdown",
   "metadata": {
    "slideshow": {
     "slide_type": "slide"
    }
   },
   "source": [
    "We can now create Taycan specific versions of our prototypical functions now that all the vehicle data has been specified and loaded in."
   ]
  },
  {
   "cell_type": "code",
   "execution_count": 11,
   "metadata": {
    "slideshow": {
     "slide_type": "fragment"
    }
   },
   "outputs": [],
   "source": [
    "taycan_drag = drag(Cd, ρ, A_frontal)\n",
    "taycan_rr = rolling_resistance(rr, mass_veh)\n",
    "taycan_boost_mod_f = boost_limit(boost_time, boosted_pt_f, max_pt_f)\n",
    "taycan_trc_lim_f = traction_limit(taycan_boost_mod_f, f_traction_max)\n",
    "taycan_propulsive_f = propulsive_force(taycan_trc_lim_f, taycan_drag, taycan_rr)\n",
    "taycan_accel = accel(mass_veh, taycan_propulsive_f)\n",
    "\n",
    "taycan_state = eq_state(taycan_accel);"
   ]
  },
  {
   "cell_type": "markdown",
   "metadata": {
    "slideshow": {
     "slide_type": "slide"
    }
   },
   "source": [
    "We can set up the integrator to solve the WOT equations of motion and can see that the resulting time is in the right ballpark and the end of the sim aligned with the target speed."
   ]
  },
  {
   "cell_type": "code",
   "execution_count": 12,
   "metadata": {
    "slideshow": {
     "slide_type": "fragment"
    }
   },
   "outputs": [
    {
     "data": {
      "text/plain": [
       "(2.9326190138778334, 26.822399999999995)"
      ]
     },
     "execution_count": 12,
     "metadata": {},
     "output_type": "execute_result"
    }
   ],
   "source": [
    "u0 = [0.0, 0.0, 0.0]\n",
    "tspan=(0.0,30.0)\n",
    "\n",
    "condition(u,t,integrator) = u[2] - 26.8224 #60 mph in m/s\n",
    "affect!(integrator) = terminate!(integrator)\n",
    "cb = ContinuousCallback(condition,affect!)\n",
    "zeroTo60 = solve(\n",
    "    ODEProblem(taycan_state, u0, tspan),\n",
    "    Rodas4(autodiff=false), \n",
    "    saveat=1e-3, \n",
    "    reltol=1e-9, \n",
    "    callback=cb\n",
    ")\n",
    "\n",
    "(zeroTo60.t[end], zeroTo60.u[end][2])"
   ]
  },
  {
   "cell_type": "markdown",
   "metadata": {
    "slideshow": {
     "slide_type": "slide"
    }
   },
   "source": [
    "To check that the model is consistent with physics, we need a measure distinct from the calculations performed so far. I have chosen to use energy conservation, and am comparing the kinetic energy at the end of the acceleration sim to the sum of its components of powertrain work and drag/rolling resistance losses using the numerically integrated distance and velocity histories."
   ]
  },
  {
   "cell_type": "code",
   "execution_count": 13,
   "metadata": {
    "slideshow": {
     "slide_type": "fragment"
    }
   },
   "outputs": [],
   "source": [
    "veh_ke = 0.5*mass_veh*zeroTo60.u[end][2]^2\n",
    "\n",
    "v = [zeroTo60.u[x][2] for x in 1:length(zeroTo60.u)]\n",
    "d = [zeroTo60.u[x][1] for x in 1:length(zeroTo60.u)]\n",
    "Δd = diff(d)\n",
    "\n",
    "drag_work = sum(taycan_drag.(v[2:end]).*Δd)\n",
    "rr_work = sum(taycan_rr.(v[2:end]).*Δd)\n",
    "pt_work = sum(taycan_trc_lim_f.(v[2:end],zeroTo60.t[2:end]).*Δd)\n",
    "\n",
    "energy_ϵ=(pt_work-drag_work-rr_work)/veh_ke-1\n",
    "\n",
    "@assert abs(energy_ϵ)<1e-3"
   ]
  },
  {
   "cell_type": "markdown",
   "metadata": {
    "slideshow": {
     "slide_type": "slide"
    }
   },
   "source": [
    "[Car and Driver](https://www.caranddriver.com/reviews/a29208876/2020-porsche-taycan-turbo-s-drive/) published numbers in late January with their testing results for the Taycan Turbo S. The data contain some quirks like the 0-60 time (2.4s) being less than 5-60 time (2.9s) and by a margin greater than the rollout time. Still, it provides some general sense of alignment and model accuracy.\n",
    "\n"
   ]
  },
  {
   "cell_type": "code",
   "execution_count": null,
   "metadata": {
    "slideshow": {
     "slide_type": "skip"
    }
   },
   "outputs": [],
   "source": [
    "include(\"perf_comparison.jl\")"
   ]
  },
  {
   "cell_type": "code",
   "execution_count": 14,
   "metadata": {
    "slideshow": {
     "slide_type": "subslide"
    }
   },
   "outputs": [
    {
     "data": {
      "text/html": [
       "<table class=\"data-frame\"><thead><tr><th></th><th>TestDescription</th><th>CarAndDriver</th><th>SimulationResults</th><th>AbsoluteError</th><th>RelativeError</th></tr><tr><th></th><th>String</th><th>Float64</th><th>Float64</th><th>Float64</th><th>Float64</th></tr></thead><tbody><p>9 rows × 5 columns</p><tr><th>1</th><td>Rollout, 1 ft (s)</td><td>0.2</td><td>0.251856</td><td>0.0518558</td><td>25.9279</td></tr><tr><th>2</th><td>60 mph (s)</td><td>2.4</td><td>2.68076</td><td>0.280763</td><td>11.6985</td></tr><tr><th>3</th><td>100 mph (s)</td><td>6.0</td><td>6.57714</td><td>0.577144</td><td>9.61907</td></tr><tr><th>4</th><td>150 mph (s)</td><td>15.2</td><td>15.4345</td><td>0.234534</td><td>1.54298</td></tr><tr><th>5</th><td>Rolling start, 5-60 mph (s)</td><td>2.9</td><td>2.69962</td><td>-0.200381</td><td>-6.90969</td></tr><tr><th>6</th><td>Top gear, 30-50 mph (s)</td><td>1.1</td><td>0.935</td><td>-0.165</td><td>-15.0</td></tr><tr><th>7</th><td>Top gear, 50-70 mph (s)</td><td>1.6</td><td>1.37</td><td>-0.23</td><td>-14.375</td></tr><tr><th>8</th><td>¼-mile time (s)</td><td>10.5</td><td>10.8371</td><td>0.337144</td><td>3.2109</td></tr><tr><th>9</th><td>¼-mile speed (mph)</td><td>130.0</td><td>128.02</td><td>-1.98003</td><td>-1.5231</td></tr></tbody></table>"
      ],
      "text/latex": [
       "\\begin{tabular}{r|ccccc}\n",
       "\t& TestDescription & CarAndDriver & SimulationResults & AbsoluteError & RelativeError\\\\\n",
       "\t\\hline\n",
       "\t& String & Float64 & Float64 & Float64 & Float64\\\\\n",
       "\t\\hline\n",
       "\t1 & Rollout, 1 ft (s) & 0.2 & 0.251856 & 0.0518558 & 25.9279 \\\\\n",
       "\t2 & 60 mph (s) & 2.4 & 2.68076 & 0.280763 & 11.6985 \\\\\n",
       "\t3 & 100 mph (s) & 6.0 & 6.57714 & 0.577144 & 9.61907 \\\\\n",
       "\t4 & 150 mph (s) & 15.2 & 15.4345 & 0.234534 & 1.54298 \\\\\n",
       "\t5 & Rolling start, 5-60 mph (s) & 2.9 & 2.69962 & -0.200381 & -6.90969 \\\\\n",
       "\t6 & Top gear, 30-50 mph (s) & 1.1 & 0.935 & -0.165 & -15.0 \\\\\n",
       "\t7 & Top gear, 50-70 mph (s) & 1.6 & 1.37 & -0.23 & -14.375 \\\\\n",
       "\t8 & ¼-mile time (s) & 10.5 & 10.8371 & 0.337144 & 3.2109 \\\\\n",
       "\t9 & ¼-mile speed (mph) & 130.0 & 128.02 & -1.98003 & -1.5231 \\\\\n",
       "\\end{tabular}\n"
      ],
      "text/plain": [
       "9×5 DataFrame. Omitted printing of 2 columns\n",
       "│ Row │ TestDescription             │ CarAndDriver │ SimulationResults │\n",
       "│     │ \u001b[90mString\u001b[39m                      │ \u001b[90mFloat64\u001b[39m      │ \u001b[90mFloat64\u001b[39m           │\n",
       "├─────┼─────────────────────────────┼──────────────┼───────────────────┤\n",
       "│ 1   │ Rollout, 1 ft (s)           │ 0.2          │ 0.251856          │\n",
       "│ 2   │ 60 mph (s)                  │ 2.4          │ 2.68076           │\n",
       "│ 3   │ 100 mph (s)                 │ 6.0          │ 6.57714           │\n",
       "│ 4   │ 150 mph (s)                 │ 15.2         │ 15.4345           │\n",
       "│ 5   │ Rolling start, 5-60 mph (s) │ 2.9          │ 2.69962           │\n",
       "│ 6   │ Top gear, 30-50 mph (s)     │ 1.1          │ 0.935             │\n",
       "│ 7   │ Top gear, 50-70 mph (s)     │ 1.6          │ 1.37              │\n",
       "│ 8   │ ¼-mile time (s)             │ 10.5         │ 10.8371           │\n",
       "│ 9   │ ¼-mile speed (mph)          │ 130.0        │ 128.02            │"
      ]
     },
     "metadata": {},
     "output_type": "display_data"
    }
   ],
   "source": [
    "display(perf_table)"
   ]
  },
  {
   "cell_type": "markdown",
   "metadata": {
    "slideshow": {
     "slide_type": "slide"
    }
   },
   "source": [
    "## Further Validation Steps ##\n",
    "Without more information about the test procedure or the test data itself, there's only so far that the model can be calibrated to published data without becoming overfit. And while some of the model predictions are not too far off, others are far outside the <5% error that may be acceptable for an early design model, with <1% error likely necessary for detailed, production level modeling. However, were such test data available, validating the model could include:\n",
    "* Using vehicle velocity history as model input and compare predicted acceleration against\n",
    "  * Traction limits and tire performance\n",
    "  * Boost time limit torque reduction\n",
    "  * Powertrain torque drop off due to tire slip\n",
    "* Based on test conditions\n",
    "  * Recompute equations of state based on more accurate initial conditions\n",
    "  * Ensure simulation data is processed correctly\n",
    "  * Account for post-processing adjustments\n",
    "\n",
    "It is also possible that this model is too simple to properly capture the dynamics of WOT for this vehicle. Test data would also help point to model improvements to address these problems. Importantly, the model should only be made as complex as needed to capture the behavior to a required level of accuracy, and no more than that.  \n"
   ]
  },
  {
   "cell_type": "code",
   "execution_count": null,
   "metadata": {},
   "outputs": [],
   "source": []
  }
 ],
 "metadata": {
  "@webio": {
   "lastCommId": null,
   "lastKernelId": null
  },
  "celltoolbar": "Slideshow",
  "kernelspec": {
   "display_name": "Julia 1.4.0",
   "language": "julia",
   "name": "julia-1.4"
  },
  "language_info": {
   "file_extension": ".jl",
   "mimetype": "application/julia",
   "name": "julia",
   "version": "1.4.0"
  }
 },
 "nbformat": 4,
 "nbformat_minor": 2
}
