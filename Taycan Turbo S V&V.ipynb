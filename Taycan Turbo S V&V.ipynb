{
 "cells": [
  {
   "cell_type": "markdown",
   "metadata": {
    "slideshow": {
     "slide_type": "-"
    }
   },
   "source": [
    "## The Taycan Turbo S ##\n",
    "### Verifying and Validating a WOT acceleration model ###\n",
    "\n",
    "![2020-porsche-taycan.jpg](img/2020-porsche-taycan.jpg)"
   ]
  },
  {
   "cell_type": "code",
   "execution_count": 1,
   "metadata": {},
   "outputs": [],
   "source": [
    "using Unitful\n",
    "using Interpolations\n",
    "using DelimitedFiles\n",
    "# using Plots\n",
    "using Polynomials\n",
    "using DifferentialEquations\n",
    "using DataFrames\n",
    "# using TableView"
   ]
  },
  {
   "cell_type": "code",
   "execution_count": 2,
   "metadata": {},
   "outputs": [
    {
     "data": {
      "text/plain": [
       "(1, 3, 7)"
      ]
     },
     "execution_count": 2,
     "metadata": {},
     "output_type": "execute_result"
    }
   ],
   "source": [
    "#A quick word on syntax. For those unfamiliar with it, the use of closures allows us to build \n",
    "#what can be thought of as prototype functions, which when provided with more concrete values, \n",
    "#return a function that can be called as intended. For instance:\n",
    "\n",
    "proto_poly(a,b,c) = (x)->a*x^2 + b*x +c\n",
    "\n",
    "#when provided with values of a, b, and c will return a function that valuates the polynomial \n",
    "#as a function of x. We could then take:\n",
    "\n",
    "f = proto_poly(1,1,1)\n",
    "(f(0), f(1), f(2)) \n",
    "\n",
    "#This strategy allows for functions to be much more easily tested while retaining flexibility"
   ]
  },
  {
   "cell_type": "code",
   "execution_count": 3,
   "metadata": {},
   "outputs": [],
   "source": [
    "drag(Cd, ρ, A) = (v)->0.5*Cd*A*ρ*v^2\n",
    "\n",
    "drag_test=drag(2,1,1)\n",
    "@assert drag_test(0) == 0\n",
    "@assert drag_test(1) == 1\n",
    "@assert drag_test(10) == 100\n",
    "@assert drag_test(10.0) == 100.0"
   ]
  },
  {
   "cell_type": "code",
   "execution_count": 4,
   "metadata": {},
   "outputs": [
    {
     "ename": "UndefVarError",
     "evalue": "UndefVarError: gn not defined",
     "output_type": "error",
     "traceback": [
      "UndefVarError: gn not defined",
      "",
      "Stacktrace:",
      " [1] (::var\"#7#8\"{Int64,Int64})(::Int64) at ./In[4]:1",
      " [2] top-level scope at In[4]:6"
     ]
    }
   ],
   "source": [
    "rolling_resistance(rr, mass) = (v)->v==0 ? 0 : rr*mass*gn\n",
    "\n",
    "rr_test = rolling_resistance(1,1)\n",
    "\n",
    "@assert rr_test(0)==0\n",
    "@assert rr_test(1)==rr_test(2) \"Rolling resistance is not constant\"\n",
    "@assert rr_test(-1)<0 \"Rolling resistance is acting in the wrong direction when v<0\""
   ]
  },
  {
   "cell_type": "code",
   "execution_count": 5,
   "metadata": {},
   "outputs": [],
   "source": [
    "#According to the literature, the Taycan can only sustain\n",
    "#its boosted output levels for 2.5 seconds. Therefore\n",
    "#we need some \"control\" logic to enforce this constraint.\n",
    "\n",
    "boost_limit(t_limit, boost_f, nominal_f) =\n",
    "    (v,t) -> if t<t_limit\n",
    "        boost_f(v)\n",
    "    else\n",
    "        nominal_f(v)\n",
    "    end\n",
    "\n",
    "traction_limit(f_capability, f_lim) = (v,t) -> min(f_capability(v,t), f_lim)\n",
    "\n",
    "bl_test = boost_limit(1,(v)->1,(v)->20)\n",
    "@assert bl_test(0,0)==1 \n",
    "@assert bl_test(2,2)==20\n",
    "\n",
    "trl_test = traction_limit(bl_test,10)\n",
    "@assert trl_test(1,0)==1\n",
    "@assert trl_test(1,2)==10"
   ]
  },
  {
   "cell_type": "code",
   "execution_count": 6,
   "metadata": {},
   "outputs": [
    {
     "data": {
      "text/plain": [
       "accel (generic function with 1 method)"
      ]
     },
     "execution_count": 6,
     "metadata": {},
     "output_type": "execute_result"
    }
   ],
   "source": [
    "propulsive_force(mod_tq_f, aero_f, rr_f) =\n",
    "    (v,t)-> mod_tq_f(v,t) - aero_f(v) - rr_f(v)\n",
    "\n",
    "accel(m,pf) = (v,t) -> pf(v,t)/m"
   ]
  },
  {
   "cell_type": "code",
   "execution_count": 7,
   "metadata": {},
   "outputs": [],
   "source": [
    "eq_state(a) = (du, u, p, t) -> begin\n",
    "    du[1] = u[2]\n",
    "    du[2] = u[3]\n",
    "    u[3] = a(u[2], t)\n",
    "end\n",
    "\n",
    "eqst_test = eq_state((x,y)->1)\n",
    "\n",
    "u0 = [0.0, 0.0, 0.0]\n",
    "tspan = (0.0, 10.0)\n",
    "resp_test = solve(ODEProblem(eqst_test, u0, tspan))\n",
    "@assert resp_test.u[end][3]==1\n",
    "@assert isapprox(resp_test.u[end][2], 10, rtol=1e-5)\n",
    "@assert isapprox(resp_test.u[end][1], 50, rtol=1e-5)"
   ]
  },
  {
   "cell_type": "code",
   "execution_count": 8,
   "metadata": {},
   "outputs": [],
   "source": [
    "#Now that we've tested the prototypical form of our\n",
    "#physical and torque control equations, we can start\n",
    "#providing the vehicle and test specific parameters\n",
    "\n",
    "#Physical constants\n",
    "ρ=1.225; #kg/m^3\n",
    "gn = ustrip(Unitful.gn);\n",
    "\n",
    "#Vehicle parameters\n",
    "mass_veh = 2_358.7; #kg\n",
    "A_frontal = 2.331866; #m^2\n",
    "Cd = 0.25;\n",
    "max_spd = 257.5; #kph\n",
    "tire_r_front = 0.3595; #in m, 21\" rims, 265/35 tires\n",
    "tire_r_rear = 0.358; # in m, 21\" rims, 305/30 tires\n",
    "boost_time = 2.5; #s, powertrain constraint\n",
    "\n",
    "#Model calibration\n",
    "ϕ_p = 0.99;\n",
    "slip_ratio = 1.15;\n",
    "rr = 0.01;\n",
    "\n",
    "# Calculated constants\n",
    "f_traction_max = ϕ_p * mass_veh * gn;\n",
    "traction_limit_tq= f_traction_max * ((tire_r_front+tire_r_rear)/2)\n",
    "f_rr = rr*mass_veh*gn;"
   ]
  },
  {
   "cell_type": "markdown",
   "metadata": {},
   "source": [
    "![taycan_pt_tq.png](img/taycan_pt_tq.png)"
   ]
  },
  {
   "cell_type": "code",
   "execution_count": 9,
   "metadata": {},
   "outputs": [
    {
     "data": {
      "text/plain": [
       "max_pt_f (generic function with 1 method)"
      ]
     },
     "execution_count": 9,
     "metadata": {},
     "output_type": "execute_result"
    }
   ],
   "source": [
    "include(\"taycan_data_load.jl\")"
   ]
  },
  {
   "cell_type": "code",
   "execution_count": 10,
   "metadata": {},
   "outputs": [],
   "source": [
    "#We can now create Taycan specific versions of our prototypical\n",
    "#functions now that all the vehicle data has been specified and\n",
    "#loaded in.\n",
    "\n",
    "taycan_drag = drag(Cd, ρ, A_frontal)\n",
    "taycan_rr = rolling_resistance(rr, mass_veh)\n",
    "taycan_boost_mod_f = boost_limit(boost_time, boosted_pt_f, max_pt_f)\n",
    "taycan_trc_lim_f = traction_limit(taycan_boost_mod_f, f_traction_max)\n",
    "taycan_propulsive_f = propulsive_force(taycan_trc_lim_f, taycan_drag, taycan_rr)\n",
    "taycan_accel = accel(mass_veh, taycan_propulsive_f)\n",
    "\n",
    "taycan_state = eq_state(taycan_accel);"
   ]
  },
  {
   "cell_type": "code",
   "execution_count": 11,
   "metadata": {},
   "outputs": [
    {
     "data": {
      "text/plain": [
       "(2.9631956048487615, 26.822399999999995)"
      ]
     },
     "execution_count": 11,
     "metadata": {},
     "output_type": "execute_result"
    }
   ],
   "source": [
    "#We can set up the integrator to solve the WOT equations of motion\n",
    "#and can see that the resulting time is in the right ballpark and\n",
    "#the end of the sim aligned with the target speed.\n",
    "\n",
    "u0 = [0.0, 0.0, 0.0]\n",
    "tspan=(0.0,30.0)\n",
    "\n",
    "condition(u,t,integrator) = u[2] - 26.8224 #60 mph in m/s\n",
    "affect!(integrator) = terminate!(integrator)\n",
    "cb = ContinuousCallback(condition,affect!)\n",
    "zeroTo60 = solve(\n",
    "    ODEProblem(taycan_state, u0, tspan),\n",
    "    Rodas4(autodiff=false), \n",
    "    saveat=1e-3, \n",
    "    reltol=1e-9, \n",
    "    callback=cb\n",
    ")\n",
    "\n",
    "(zeroTo60.t[end], zeroTo60.u[end][2])"
   ]
  },
  {
   "cell_type": "code",
   "execution_count": 12,
   "metadata": {},
   "outputs": [],
   "source": [
    "#To check that the model is consistent with physics, we need a measure\n",
    "#distinct from the calculations performed so far. I have chosen to use\n",
    "#energy conservation, and am comparing the kinetic energy at the end\n",
    "#of the acceleration sim to the sum of its components of powertrain work \n",
    "#and drag/rolling resistance losses using the numerically integrated\n",
    "#distance and velocity histories.\n",
    "\n",
    "veh_ke = 0.5*mass_veh*zeroTo60.u[end][2]^2\n",
    "\n",
    "v = [zeroTo60.u[x][2] for x in 1:length(zeroTo60.u)]\n",
    "d = [zeroTo60.u[x][1] for x in 1:length(zeroTo60.u)]\n",
    "Δd = diff(d)\n",
    "\n",
    "drag_work = sum(taycan_drag.(v[2:end]).*Δd)\n",
    "rr_work = sum(taycan_rr.(v[2:end]).*Δd)\n",
    "pt_work = sum(taycan_trc_lim_f.(v[2:end],zeroTo60.t[2:end]).*Δd)\n",
    "\n",
    "energy_ϵ=(pt_work-drag_work-rr_work)/veh_ke-1\n",
    "\n",
    "@assert abs(energy_ϵ)<1e-3"
   ]
  },
  {
   "cell_type": "code",
   "execution_count": 13,
   "metadata": {},
   "outputs": [
    {
     "data": {
      "text/html": [
       "<table class=\"data-frame\"><thead><tr><th></th><th>TestDescription</th><th>CarAndDriver</th><th>SimulationResults</th></tr><tr><th></th><th>String</th><th>Float64</th><th>Float64</th></tr></thead><tbody><p>9 rows × 3 columns</p><tr><th>1</th><td>Rollout, 1 ft (s)</td><td>0.2</td><td>0.251856</td></tr><tr><th>2</th><td>60 mph (s)</td><td>2.4</td><td>2.71134</td></tr><tr><th>3</th><td>100 mph (s)</td><td>6.0</td><td>6.79814</td></tr><tr><th>4</th><td>150 mph (s)</td><td>15.2</td><td>16.0657</td></tr><tr><th>5</th><td>Rolling start, 5-60 mph (s)</td><td>2.9</td><td>2.7302</td></tr><tr><th>6</th><td>Top gear, 30-50 mph (s)</td><td>1.1</td><td>0.936</td></tr><tr><th>7</th><td>Top gear, 50-70 mph (s)</td><td>1.6</td><td>1.435</td></tr><tr><th>8</th><td>¼-mile time (s)</td><td>10.5</td><td>10.9431</td></tr><tr><th>9</th><td>¼-mile speed (mph)</td><td>130.0</td><td>126.2</td></tr></tbody></table>"
      ],
      "text/latex": [
       "\\begin{tabular}{r|ccc}\n",
       "\t& TestDescription & CarAndDriver & SimulationResults\\\\\n",
       "\t\\hline\n",
       "\t& String & Float64 & Float64\\\\\n",
       "\t\\hline\n",
       "\t1 & Rollout, 1 ft (s) & 0.2 & 0.251856 \\\\\n",
       "\t2 & 60 mph (s) & 2.4 & 2.71134 \\\\\n",
       "\t3 & 100 mph (s) & 6.0 & 6.79814 \\\\\n",
       "\t4 & 150 mph (s) & 15.2 & 16.0657 \\\\\n",
       "\t5 & Rolling start, 5-60 mph (s) & 2.9 & 2.7302 \\\\\n",
       "\t6 & Top gear, 30-50 mph (s) & 1.1 & 0.936 \\\\\n",
       "\t7 & Top gear, 50-70 mph (s) & 1.6 & 1.435 \\\\\n",
       "\t8 & ¼-mile time (s) & 10.5 & 10.9431 \\\\\n",
       "\t9 & ¼-mile speed (mph) & 130.0 & 126.2 \\\\\n",
       "\\end{tabular}\n"
      ],
      "text/plain": [
       "9×3 DataFrame\n",
       "│ Row │ TestDescription             │ CarAndDriver │ SimulationResults │\n",
       "│     │ \u001b[90mString\u001b[39m                      │ \u001b[90mFloat64\u001b[39m      │ \u001b[90mFloat64\u001b[39m           │\n",
       "├─────┼─────────────────────────────┼──────────────┼───────────────────┤\n",
       "│ 1   │ Rollout, 1 ft (s)           │ 0.2          │ 0.251856          │\n",
       "│ 2   │ 60 mph (s)                  │ 2.4          │ 2.71134           │\n",
       "│ 3   │ 100 mph (s)                 │ 6.0          │ 6.79814           │\n",
       "│ 4   │ 150 mph (s)                 │ 15.2         │ 16.0657           │\n",
       "│ 5   │ Rolling start, 5-60 mph (s) │ 2.9          │ 2.7302            │\n",
       "│ 6   │ Top gear, 30-50 mph (s)     │ 1.1          │ 0.936             │\n",
       "│ 7   │ Top gear, 50-70 mph (s)     │ 1.6          │ 1.435             │\n",
       "│ 8   │ ¼-mile time (s)             │ 10.5         │ 10.9431           │\n",
       "│ 9   │ ¼-mile speed (mph)          │ 130.0        │ 126.2             │"
      ]
     },
     "execution_count": 13,
     "metadata": {},
     "output_type": "execute_result"
    }
   ],
   "source": [
    "#Car and Driver published numbers in late January with their\n",
    "#testing results for the Taycan Turbo S. However, without the\n",
    "#raw data it's hard to say how the model aligns to these tests.\n",
    "#There are also quirks like the 0-60 time (2.4s) being less \n",
    "#than 5-60 time (2.9s) and by a margin greater than the rollout\n",
    "#time. Still, it provides some general sense of alignment and \n",
    "#model accuracy.\n",
    "\n",
    "#https://www.caranddriver.com/reviews/a29208876/2020-porsche-taycan-turbo-s-drive/\n",
    "\n",
    "include(\"perf_comparison.jl\")\n",
    "perf_table"
   ]
  },
  {
   "cell_type": "code",
   "execution_count": null,
   "metadata": {},
   "outputs": [],
   "source": []
  }
 ],
 "metadata": {
  "@webio": {
   "lastCommId": null,
   "lastKernelId": null
  },
  "kernelspec": {
   "display_name": "Julia 1.4.0",
   "language": "julia",
   "name": "julia-1.4"
  },
  "language_info": {
   "file_extension": ".jl",
   "mimetype": "application/julia",
   "name": "julia",
   "version": "1.4.0"
  }
 },
 "nbformat": 4,
 "nbformat_minor": 2
}
